{
  "nbformat": 4,
  "nbformat_minor": 0,
  "metadata": {
    "colab": {
      "provenance": []
    },
    "kernelspec": {
      "name": "python3",
      "display_name": "Python 3"
    },
    "language_info": {
      "name": "python"
    }
  },
  "cells": [
    {
      "cell_type": "markdown",
      "source": [
        "# Optional Lab: Multiple Variable Linear Regression\n",
        "\n",
        "In this lab, you will extend the data structures and previously developed routines to support multiple features. Several routines are updated making the lab appear lengthy, but it makes minor adjustments to previous routines making it quick to review.\n",
        "\n",
        "<a name=\"toc_15456_2\"></a>\n",
        "# 1 Problem Statement\n",
        "\n",
        "You will use the motivating example of housing price prediction. The training dataset contains three examples with four features (size, bedrooms, floors and, age) shown in the table below.  Note that, unlike the earlier labs, size is in sqft rather than 1000 sqft. This causes an issue, which you will solve in the next lab!\n",
        "\n",
        "| Size (sqft) | Number of Bedrooms  | Number of floors | Age of  Home | Price (1000s dollars)  |   \n",
        "| ----------------| ------------------- |----------------- |--------------|-------------- |  \n",
        "| 2104            | 5                   | 1                | 45           | 460           |  \n",
        "| 1416            | 3                   | 2                | 40           | 232           |  \n",
        "| 852             | 2                   | 1                | 35           | 178           |  \n",
        "\n",
        "You will build a linear regression model using these values so you can then predict the price for other houses. For example, a house with 1200 sqft, 3 bedrooms, 1 floor, 40 years old.  \n",
        "\n",
        "Please run the following code cell to create your `X_train` and `y_train` variables."
      ],
      "metadata": {
        "id": "_20eYcYoDJ-r"
      }
    },
    {
      "cell_type": "code",
      "execution_count": 24,
      "metadata": {
        "id": "gQOJbGMeDHhm"
      },
      "outputs": [],
      "source": [
        "import copy, math\n",
        "import numpy as np\n",
        "import matplotlib.pyplot as plt\n",
        "np.set_printoptions(precision=2)  # reduced display precision on numpy arrays"
      ]
    },
    {
      "cell_type": "code",
      "source": [
        "X_train = np.array([[2104, 5, 1, 45], [1416, 3, 2, 40], [852, 2, 1, 35]])\n",
        "y_train = np.array([460, 232, 178])"
      ],
      "metadata": {
        "id": "wlJLkhEHDsUK"
      },
      "execution_count": 25,
      "outputs": []
    },
    {
      "cell_type": "markdown",
      "source": [
        "<a name=\"toc_15456_3\"></a>\n",
        "# 2 Model Prediction With Multiple Variables\n",
        "The model's prediction with multiple variables is given by the linear model:\n",
        "\n",
        "$$ f_{\\mathbf{w},b}(\\mathbf{x}) =  w_0x_0 + w_1x_1 +... + w_{n-1}x_{n-1} + b \\tag{1}$$\n",
        "or in vector notation:\n",
        "$$ f_{\\mathbf{w},b}(\\mathbf{x}) = \\mathbf{w} \\cdot \\mathbf{x} + b  \\tag{2} $$\n",
        "where $\\cdot$ is a vector `dot product`\n",
        "\n",
        "To demonstrate the dot product, we will implement prediction using (1) and (2)."
      ],
      "metadata": {
        "id": "88Zifkfks4-4"
      }
    },
    {
      "cell_type": "code",
      "source": [
        "# model prediction\n",
        "def predict(x, w, b):\n",
        "  return np.dot(x, w) + b"
      ],
      "metadata": {
        "id": "0XPfPjKas6Wg"
      },
      "execution_count": 26,
      "outputs": []
    },
    {
      "cell_type": "markdown",
      "source": [
        "<a name=\"toc_15456_4\"></a>\n",
        "# 3 Compute Cost With Multiple Variables\n",
        "The equation for the cost function with multiple variables $J(\\mathbf{w},b)$ is:\n",
        "$$J(\\mathbf{w},b) = \\frac{1}{2m} \\sum\\limits_{i = 0}^{m-1} (f_{\\mathbf{w},b}(\\mathbf{x}^{(i)}) - y^{(i)})^2 \\tag{3}$$\n",
        "where:\n",
        "$$ f_{\\mathbf{w},b}(\\mathbf{x}^{(i)}) = \\mathbf{w} \\cdot \\mathbf{x}^{(i)} + b  \\tag{4} $$\n",
        "\n",
        "\n",
        "In contrast to previous labs, $\\mathbf{w}$ and $\\mathbf{x}^{(i)}$ are vectors rather than scalars supporting multiple features."
      ],
      "metadata": {
        "id": "HneAz8q6v16f"
      }
    },
    {
      "cell_type": "code",
      "source": [
        "# cost function\n",
        "def cost(x, y, w, b):\n",
        "  m, n = x.shape\n",
        "  J = 0.0\n",
        "  for i in range(m):\n",
        "    f_wb = np.dot(w, x[i]) + b\n",
        "    error = f_wb - y[i]\n",
        "    J += error ** 2\n",
        "  J /= (2 * m)\n",
        "  return J"
      ],
      "metadata": {
        "id": "8HjC65VPu5NA"
      },
      "execution_count": 40,
      "outputs": []
    },
    {
      "cell_type": "markdown",
      "source": [
        "\n",
        "<a name=\"toc_15456_5\"></a>\n",
        "# 4 Gradient Descent With Multiple Variables\n",
        "Gradient descent for multiple variables:\n",
        "\n",
        "$$\\begin{align*} \\text{repeat}&\\text{ until convergence:} \\; \\lbrace \\newline\\;\n",
        "& w_j = w_j -  \\alpha \\frac{\\partial J(\\mathbf{w},b)}{\\partial w_j} \\tag{5}  \\; & \\text{for j = 0..n-1}\\newline\n",
        "&b\\ \\ = b -  \\alpha \\frac{\\partial J(\\mathbf{w},b)}{\\partial b}  \\newline \\rbrace\n",
        "\\end{align*}$$\n",
        "\n",
        "where, n is the number of features, parameters $w_j$,  $b$, are updated simultaneously and where  \n",
        "\n",
        "$$\n",
        "\\begin{align}\n",
        "\\frac{\\partial J(\\mathbf{w},b)}{\\partial w_j}  &= \\frac{1}{m} \\sum\\limits_{i = 0}^{m-1} (f_{\\mathbf{w},b}(\\mathbf{x}^{(i)}) - y^{(i)})x_{j}^{(i)} \\tag{6}  \\\\\n",
        "\\frac{\\partial J(\\mathbf{w},b)}{\\partial b}  &= \\frac{1}{m} \\sum\\limits_{i = 0}^{m-1} (f_{\\mathbf{w},b}(\\mathbf{x}^{(i)}) - y^{(i)}) \\tag{7}\n",
        "\\end{align}\n",
        "$$\n",
        "* m is the number of training examples in the data set\n",
        "\n",
        "    \n",
        "*  $f_{\\mathbf{w},b}(\\mathbf{x}^{(i)})$ is the model's prediction, while $y^{(i)}$ is the target value"
      ],
      "metadata": {
        "id": "84LESd0CtJ_y"
      }
    },
    {
      "cell_type": "code",
      "source": [
        "# gradient\n",
        "def gradient(x, y, w, b):\n",
        "  m, n = x.shape # num of examples, num of feature\n",
        "  dj_dw = np.zeros(n)\n",
        "  dj_db = .0\n",
        "  for i in range(m):\n",
        "    f_wb = np.dot(w, x[i]) + b\n",
        "    error = f_wb - y[i]\n",
        "    dj_db += error\n",
        "    for j in range(n):\n",
        "      dj_dw += error * x[i][j]\n",
        "\n",
        "  dj_dw /= m\n",
        "  dj_db /= m\n",
        "\n",
        "  return dj_dw, dj_db"
      ],
      "metadata": {
        "id": "wZkMOX3AEiO-"
      },
      "execution_count": 41,
      "outputs": []
    },
    {
      "cell_type": "code",
      "source": [
        "def gradient_descent(x, y, w, b, cost_function, gradient_function, alpha, num_iters):\n",
        "  w_out = copy.deepcopy(w)\n",
        "  b_out = 0\n",
        "  # An array to store cost J and w's at each iteration primarily for graphing later\n",
        "  J_history = []\n",
        "  for i in range(num_iters):\n",
        "    dj_dw, dj_db = gradient_function(x, y, w_out, b_out)\n",
        "    w_out = w_out - alpha * dj_dw\n",
        "    b_out = b_out - alpha * dj_db\n",
        "    if i < 100000:\n",
        "      J_history.append(cost_function(x, y, w_out, b_out))\n",
        "  return w_out, b_out, J_history"
      ],
      "metadata": {
        "id": "dRB05371GVRJ"
      },
      "execution_count": 42,
      "outputs": []
    },
    {
      "cell_type": "markdown",
      "source": [
        "## Result:"
      ],
      "metadata": {
        "id": "VDH69nXPxh2V"
      }
    },
    {
      "cell_type": "code",
      "source": [
        "b_init = 785.1811367994083\n",
        "w_init = np.array([ 0.39133535, 18.75376741, -53.36032453, -26.42131618])\n",
        "\n",
        "w, b, J_hist =gradient_descent(X_train, y_train, w = np.zeros_like(w_init), b = .0,\n",
        "                 cost_function = cost, gradient_function = gradient,\n",
        "                 alpha = 5.0e-7, num_iters = 100000)\n",
        "print(f\"w: {w}, b: {b}\")\n",
        "# plot cost versus iteration\n",
        "fig, (ax1, ax2) = plt.subplots(1, 2, constrained_layout=True, figsize=(12, 4))\n",
        "ax1.plot(J_hist)\n",
        "ax2.plot(100 + np.arange(len(J_hist[100:])), J_hist[100:])\n",
        "ax1.set_title(\"Cost vs. iteration\");  ax2.set_title(\"Cost vs. iteration (tail)\")\n",
        "ax1.set_ylabel('Cost')             ;  ax2.set_ylabel('Cost')\n",
        "ax1.set_xlabel('iteration step')   ;  ax2.set_xlabel('iteration step')\n",
        "plt.show()"
      ],
      "metadata": {
        "colab": {
          "base_uri": "https://localhost:8080/",
          "height": 445
        },
        "id": "tPV0QkX6xdJG",
        "outputId": "2bfb392f-af16-4877-cb55-78997c4db682"
      },
      "execution_count": 47,
      "outputs": [
        {
          "output_type": "stream",
          "name": "stdout",
          "text": [
            "w: [0.2 0.2 0.2 0.2], b: -0.2666431224966194\n"
          ]
        },
        {
          "output_type": "display_data",
          "data": {
            "text/plain": [
              "<Figure size 1200x400 with 2 Axes>"
            ],
            "image/png": "[encoded data removed]"
          },
          "metadata": {}
        }
      ]
    },
    {
      "cell_type": "code",
      "source": [
        "# predict a house with 1200 sqft, 3 bedrooms, 1 floor, 40 years old.\n",
        "feature = [1200, 3, 1, 40]\n",
        "print(f\"Predicted price: {predict(feature, w, b)}k dollars\")"
      ],
      "metadata": {
        "id": "lbOETWxgyWHg",
        "colab": {
          "base_uri": "https://localhost:8080/"
        },
        "outputId": "580ea927-35b5-4827-95bb-250245c39440"
      },
      "execution_count": 49,
      "outputs": [
        {
          "output_type": "stream",
          "name": "stdout",
          "text": [
            "Predicted price: 244.5476850873415k dollars\n"
          ]
        }
      ]
    },
    {
      "cell_type": "code",
      "source": [],
      "metadata": {
        "id": "9Xe3hnhp2cDQ"
      },
      "execution_count": null,
      "outputs": []
    }
  ]
}