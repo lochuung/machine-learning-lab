{
  "cells": [
    {
      "cell_type": "markdown",
      "metadata": {
        "id": "_20eYcYoDJ-r"
      },
      "source": [
        "# Optional Lab: Logistic Regression"
      ]
    },
    {
      "cell_type": "markdown",
      "metadata": {},
      "source": [
        "## Dataset \n",
        "Let's start with the same dataset as before."
      ]
    },
    {
      "cell_type": "code",
      "execution_count": 23,
      "metadata": {
        "id": "gQOJbGMeDHhm"
      },
      "outputs": [],
      "source": [
        "import numpy as np\n",
        "import copy\n",
        "\n",
        "X = np.array([[0.5, 1.5], [1,1], [1.5, 0.5], [3, 0.5], [2, 2], [1, 2.5]])\n",
        "y = np.array([0, 0, 0, 1, 1, 1])"
      ]
    },
    {
      "cell_type": "markdown",
      "metadata": {
        "id": "88Zifkfks4-4"
      },
      "source": [
        "## Sigmoid or Logistic Function\n",
        "<img align=\"left\" src=\"./images/C1_W3_LogisticRegression_left.png\"     style=\" width:300px; padding: 10px; \" >As discussed in the lecture videos, for a classification task, we can start by using our linear regression model, $$ f_{\\mathbf{w},b}(\\mathbf{x}^{(i)}) = \\mathbf{w} \\cdot  \\mathbf{x}^{(i)} + b $$, to predict $y$ given $x$.\n",
        "- However, we would like the predictions of our classification model to be between 0 and 1 since our output variable $y$ is either 0 or 1. \n",
        "- This can be accomplished by using a \"sigmoid function\" which maps all input values to values between 0 and 1. \n",
        "\n",
        "\n",
        "Let's implement the sigmoid function and see this for ourselves.\n",
        "\n",
        "## Formula for Sigmoid function\n",
        "\n",
        "The formula for a sigmoid function is as follows -  \n",
        "\n",
        "$$ g(z) = \\frac{1}{1+e^{-z}}\\tag{1} $$\n",
        "\n",
        "In the case of logistic regression, z (the input to the sigmoid function), is the output of a linear regression model. \n",
        "- In the case of a single example, $z$ is scalar.\n",
        "- in the case of multiple examples, $z$ may be a vector consisting of $m$ values, one for each example. \n",
        "- The implementation of the sigmoid function should cover both of these potential input formats.\n",
        "Let's implement this in Python."
      ]
    },
    {
      "cell_type": "code",
      "execution_count": 24,
      "metadata": {
        "id": "0XPfPjKas6Wg"
      },
      "outputs": [],
      "source": [
        "# sigmoid function\n",
        "def sigmoid(z):\n",
        "  return 1 / (1 + np.exp(-z))\n",
        "\n",
        "# prediction function\n",
        "def predict(x, w, b):\n",
        "  return sigmoid(np.dot(x, w) + b)"
      ]
    },
    {
      "cell_type": "markdown",
      "metadata": {
        "id": "HneAz8q6v16f"
      },
      "source": [
        "## Cost function\n",
        "\n",
        "In a previous lab, you developed the *logistic loss* function. Recall, loss is defined to apply to one example. Here you combine the losses to form the **cost**, which includes all the examples.\n",
        "\n",
        "\n",
        "Recall that for logistic regression, the cost function is of the form \n",
        "\n",
        "$$ J(\\mathbf{w},b) = \\frac{1}{m} \\sum_{i=0}^{m-1} \\left[ loss(f_{\\mathbf{w},b}(\\mathbf{x}^{(i)}), y^{(i)}) \\right] \\tag{1}$$\n",
        "\n",
        "where\n",
        "* $loss(f_{\\mathbf{w},b}(\\mathbf{x}^{(i)}), y^{(i)})$ is the cost for a single data point, which is:\n",
        "\n",
        "    $$loss(f_{\\mathbf{w},b}(\\mathbf{x}^{(i)}), y^{(i)}) = -y^{(i)} \\log\\left(f_{\\mathbf{w},b}\\left( \\mathbf{x}^{(i)} \\right) \\right) - \\left( 1 - y^{(i)}\\right) \\log \\left( 1 - f_{\\mathbf{w},b}\\left( \\mathbf{x}^{(i)} \\right) \\right) \\tag{2}$$\n",
        "    \n",
        "*  where m is the number of training examples in the data set and:\n",
        "$$\n",
        "\\begin{align}\n",
        "  f_{\\mathbf{w},b}(\\mathbf{x^{(i)}}) &= g(z^{(i)})\\tag{3} \\\\\n",
        "  z^{(i)} &= \\mathbf{w} \\cdot \\mathbf{x}^{(i)}+ b\\tag{4} \\\\\n",
        "  g(z^{(i)}) &= \\frac{1}{1+e^{-z^{(i)}}}\\tag{5} \n",
        "\\end{align}\n",
        "$$\n",
        " "
      ]
    },
    {
      "cell_type": "code",
      "execution_count": 25,
      "metadata": {
        "id": "8HjC65VPu5NA"
      },
      "outputs": [],
      "source": [
        "# cost function\n",
        "def logistic_cost(x, y, w, b):\n",
        "  m, n = x.shape\n",
        "  J = 0.0\n",
        "  for i in range(m):\n",
        "    z = np.dot(x[i], w) + b\n",
        "    f_wb = sigmoid(z)\n",
        "    J += y[i] * np.log(f_wb) + (1 - y[i]) * np.log(1 - f_wb)\n",
        "\n",
        "  return -J / m"
      ]
    },
    {
      "cell_type": "markdown",
      "metadata": {
        "id": "84LESd0CtJ_y"
      },
      "source": [
        "## Logistic Gradient Descent\n",
        "<img align=\"right\" src=\"./images/C1_W3_Logistic_gradient_descent.png\"     style=\" width:400px; padding: 10px; \" >\n",
        "\n",
        "Recall the gradient descent algorithm utilizes the gradient calculation:\n",
        "$$\\begin{align*}\n",
        "&\\text{repeat until convergence:} \\; \\lbrace \\\\\n",
        "&  \\; \\; \\;w_j = w_j -  \\alpha \\frac{\\partial J(\\mathbf{w},b)}{\\partial w_j} \\tag{1}  \\; & \\text{for j := 0..n-1} \\\\ \n",
        "&  \\; \\; \\;  \\; \\;b = b -  \\alpha \\frac{\\partial J(\\mathbf{w},b)}{\\partial b} \\\\\n",
        "&\\rbrace\n",
        "\\end{align*}$$\n",
        "\n",
        "Where each iteration performs simultaneous updates on $w_j$ for all $j$, where\n",
        "$$\\begin{align*}\n",
        "\\frac{\\partial J(\\mathbf{w},b)}{\\partial w_j}  &= \\frac{1}{m} \\sum\\limits_{i = 0}^{m-1} (f_{\\mathbf{w},b}(\\mathbf{x}^{(i)}) - y^{(i)})x_{j}^{(i)} \\tag{2} \\\\\n",
        "\\frac{\\partial J(\\mathbf{w},b)}{\\partial b}  &= \\frac{1}{m} \\sum\\limits_{i = 0}^{m-1} (f_{\\mathbf{w},b}(\\mathbf{x}^{(i)}) - y^{(i)}) \\tag{3} \n",
        "\\end{align*}$$\n",
        "\n",
        "* m is the number of training examples in the data set      \n",
        "* $f_{\\mathbf{w},b}(x^{(i)})$ is the model's prediction, while $y^{(i)}$ is the target\n",
        "* For a logistic regression model  \n",
        "    $z = \\mathbf{w} \\cdot \\mathbf{x} + b$  \n",
        "    $f_{\\mathbf{w},b}(x) = g(z)$  \n",
        "    where $g(z)$ is the sigmoid function:  \n",
        "    $g(z) = \\frac{1}{1+e^{-z}}$   \n",
        "    \n"
      ]
    },
    {
      "cell_type": "code",
      "execution_count": 26,
      "metadata": {
        "id": "wZkMOX3AEiO-"
      },
      "outputs": [],
      "source": [
        "# gradient\n",
        "def logistic_gradient(x, y, w, b):\n",
        "  m, n = x.shape # num of examples, num of feature\n",
        "  dj_dw = np.zeros(n)\n",
        "  dj_db = .0\n",
        "  for i in range(m):\n",
        "    f_wb = sigmoid(np.dot(x[i], w) + b)\n",
        "    error = f_wb - y[i]\n",
        "    dj_db += error\n",
        "    for j in range(n):\n",
        "      dj_dw += error * x[i][j]\n",
        "\n",
        "  dj_dw /= m\n",
        "  dj_db /= m\n",
        "\n",
        "  return dj_dw, dj_db"
      ]
    },
    {
      "cell_type": "code",
      "execution_count": 27,
      "metadata": {
        "id": "dRB05371GVRJ"
      },
      "outputs": [],
      "source": [
        "def gradient_descent(x, y, w, b, cost_function, gradient_function, alpha, num_iters):\n",
        "  w_out = copy.deepcopy(w)\n",
        "  b_out = 0\n",
        "  # An array to store cost J and w's at each iteration primarily for graphing later\n",
        "  J_history = []\n",
        "  for i in range(num_iters):\n",
        "    dj_dw, dj_db = gradient_function(x, y, w_out, b_out)\n",
        "    w_out = w_out - alpha * dj_dw\n",
        "    b_out = b_out - alpha * dj_db\n",
        "    if i < 100000:\n",
        "      J_history.append(cost_function(x, y, w_out, b_out))\n",
        "  return w_out, b_out, J_history"
      ]
    },
    {
      "cell_type": "markdown",
      "metadata": {
        "id": "VDH69nXPxh2V"
      },
      "source": [
        "## Result:"
      ]
    },
    {
      "cell_type": "code",
      "execution_count": 30,
      "metadata": {
        "colab": {
          "base_uri": "https://localhost:8080/",
          "height": 445
        },
        "id": "tPV0QkX6xdJG",
        "outputId": "2bfb392f-af16-4877-cb55-78997c4db682"
      },
      "outputs": [
        {
          "name": "stdout",
          "output_type": "stream",
          "text": [
            "w: [0.00207199 0.00207199], b: -3.6739226415094047e-06\n"
          ]
        }
      ],
      "source": [
        "b_init = 785.1811367994083\n",
        "w_init = np.array([ 0.39133535, 18.75376741])\n",
        "\n",
        "w, b, J_hist =gradient_descent(x=X, y=y, w = np.zeros_like(w_init), b = .0,\n",
        "                 cost_function = logistic_cost, gradient_function = logistic_gradient,\n",
        "                 alpha = 5.0e-7, num_iters = 10000)\n",
        "print(f\"w: {w}, b: {b}\")"
      ]
    },
    {
      "cell_type": "code",
      "execution_count": 35,
      "metadata": {
        "colab": {
          "base_uri": "https://localhost:8080/"
        },
        "id": "lbOETWxgyWHg",
        "outputId": "580ea927-35b5-4827-95bb-250245c39440"
      },
      "outputs": [
        {
          "data": {
            "image/png": "[encoded data removed]",
            "text/plain": [
              "<Figure size 640x480 with 1 Axes>"
            ]
          },
          "metadata": {},
          "output_type": "display_data"
        }
      ],
      "source": [
        "# plot the cost function\n",
        "import matplotlib.pyplot as plt\n",
        "plt.plot(J_hist)\n",
        "plt.xlabel('Iteration')\n",
        "plt.ylabel('Cost')\n",
        "plt.show()"
      ]
    },
    {
      "cell_type": "code",
      "execution_count": 40,
      "metadata": {},
      "outputs": [
        {
          "name": "stdout",
          "output_type": "stream",
          "text": [
            "0.5062147224734628\n"
          ]
        }
      ],
      "source": [
        "# predict\n",
        "print(predict([6, 6], w, b))"
      ]
    },
    {
      "cell_type": "code",
      "execution_count": null,
      "metadata": {},
      "outputs": [],
      "source": []
    }
  ],
  "metadata": {
    "colab": {
      "provenance": []
    },
    "kernelspec": {
      "display_name": "Python 3",
      "name": "python3"
    },
    "language_info": {
      "codemirror_mode": {
        "name": "ipython",
        "version": 3
      },
      "file_extension": ".py",
      "mimetype": "text/x-python",
      "name": "python",
      "nbconvert_exporter": "python",
      "pygments_lexer": "ipython3",
      "version": "3.10.7"
    }
  },
  "nbformat": 4,
  "nbformat_minor": 0
}
